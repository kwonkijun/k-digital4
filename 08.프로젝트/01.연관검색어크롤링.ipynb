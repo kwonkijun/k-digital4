{
 "cells": [
  {
   "cell_type": "code",
   "execution_count": 16,
   "metadata": {},
   "outputs": [
    {
     "name": "stdout",
     "output_type": "stream",
     "text": [
      "유튜브 광고\n",
      "유튜브 검은화면\n",
      "유튜브 고객센터\n",
      "유튜브 검색기록\n",
      "유튜브 광고 제거\n",
      "유튜브 검은색\n",
      "유튜브 검색기록 삭제\n",
      "유튜브 검정\n",
      "유튜브 검색어\n",
      "유튜브 검색\n"
     ]
    }
   ],
   "source": [
    "import requests\n",
    "import json\n",
    "\n",
    "response = requests.get(\"https://ac.search.naver.com/nx/ac?q=%EC%9C%A0%ED%8A%9C%EB%B8%8C%20%E3%84%B1&con=0&frm=nv&ans=2&r_format=json&r_enc=UTF-8&r_unicode=0&t_koreng=1&run=2&rev=4&q_enc=UTF-8&st=100&_callback=\")\n",
    "data = response.text\n",
    "# data = data.replace('_jsonp_4(', '').replace(')', '')\n",
    "data = json.loads(data)\n",
    "items = data['items'][0]\n",
    "for item in items:\n",
    "    print(item[0])"
   ]
  },
  {
   "cell_type": "code",
   "execution_count": null,
   "metadata": {},
   "outputs": [],
   "source": []
  }
 ],
 "metadata": {
  "kernelspec": {
   "display_name": "Python 3.10.6 64-bit",
   "language": "python",
   "name": "python3"
  },
  "language_info": {
   "codemirror_mode": {
    "name": "ipython",
    "version": 3
   },
   "file_extension": ".py",
   "mimetype": "text/x-python",
   "name": "python",
   "nbconvert_exporter": "python",
   "pygments_lexer": "ipython3",
   "version": "3.10.6"
  },
  "orig_nbformat": 4,
  "vscode": {
   "interpreter": {
    "hash": "200fa5d0b2981d58b1f27a61a10a35692b9d56d91ef977d0357ac52583da061d"
   }
  }
 },
 "nbformat": 4,
 "nbformat_minor": 2
}
